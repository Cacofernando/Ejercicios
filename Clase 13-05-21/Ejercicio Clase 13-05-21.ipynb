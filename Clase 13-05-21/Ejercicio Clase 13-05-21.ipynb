{
 "cells": [
  {
   "cell_type": "code",
   "execution_count": 1,
   "metadata": {},
   "outputs": [],
   "source": [
    "import pandas as pd\n",
    "import matplotlib.pyplot as plt\n",
    "import numpy as np"
   ]
  },
  {
   "cell_type": "code",
   "execution_count": 45,
   "metadata": {},
   "outputs": [],
   "source": [
    "lista = np.random.randint(low = 1, high = 13, size = 1000)"
   ]
  },
  {
   "cell_type": "code",
   "execution_count": 46,
   "metadata": {},
   "outputs": [
    {
     "data": {
      "text/plain": [
       "array([ 8,  5,  4,  3,  2,  5,  7, 12,  6,  2,  8,  9,  5,  5,  4, 12,  8,\n",
       "        2,  8,  1,  1, 10,  2,  6, 11,  2,  2,  6,  6,  9,  5, 12,  1,  3,\n",
       "        4, 11,  4, 12, 10,  9, 12, 11, 12,  1,  1,  2, 12,  6,  2, 11,  3,\n",
       "       11, 10,  4,  3, 12,  7,  7, 11,  5,  8,  2, 11,  4,  2,  6,  4,  2,\n",
       "        2,  7,  2,  9, 10, 11, 10,  7, 12, 11,  3,  2,  9,  4,  9, 10,  6,\n",
       "        9,  8,  4,  8,  3,  2,  8, 11,  3, 10, 10, 11,  5,  1,  3,  9,  5,\n",
       "       10,  5,  8,  8,  4, 10, 10, 12, 11,  7,  4,  5, 12,  6,  6,  1, 11,\n",
       "       11,  2,  5, 11,  1,  9,  4,  9, 11,  4,  6,  5,  9,  1,  6,  2,  7,\n",
       "       10,  8,  6, 12,  3,  4, 10, 10, 11,  4,  6,  9, 10,  5,  7, 11,  6,\n",
       "        7,  3, 12,  6, 12, 10,  8, 12,  8,  9,  3,  5,  2,  7,  4,  3,  4,\n",
       "        3,  7, 10,  2,  4,  4,  3, 12,  8, 10, 12, 12,  8,  7, 10,  5, 11,\n",
       "        7,  1,  8,  1,  9,  4,  4, 12,  9,  8,  8,  5,  5,  7,  5, 12, 12,\n",
       "        6,  1,  4,  6, 10,  2, 11, 11, 11,  9, 11,  8,  4,  7,  8, 10,  9,\n",
       "        9, 10,  8,  1,  5,  2,  5,  8,  3,  2,  1,  4, 10, 12,  6,  5, 12,\n",
       "        6, 10,  8,  6,  2,  4,  3, 11,  2,  8,  3,  1,  9,  7,  2,  3,  4,\n",
       "        3, 12,  9,  7,  4, 12,  7, 11,  4,  2,  8,  5,  2, 10,  3, 12, 11,\n",
       "        6,  6,  9,  1,  9,  2,  4, 12, 10,  2, 11,  9,  8,  2,  7, 10, 12,\n",
       "        2,  1,  7,  1, 11,  1,  1,  1, 12,  1,  6,  4,  8,  4, 10,  9, 10,\n",
       "        1, 12, 11,  4, 12, 12,  7,  6,  6,  2,  8,  4,  5,  4, 11, 11, 10,\n",
       "       12,  5, 12,  1, 11,  7,  6,  1,  7,  1, 10, 10,  8,  3, 10, 12, 10,\n",
       "        1,  1, 11,  9,  7, 12,  8, 10,  1,  5,  7, 11,  2, 11,  5,  8,  1,\n",
       "       10,  5,  4,  1,  7, 10,  9,  2, 12,  2,  6, 12,  4,  3, 12,  2,  3,\n",
       "        4, 10, 10,  2,  8, 10,  2,  7, 10,  7, 11,  1,  3,  3,  6,  3,  4,\n",
       "        2,  7,  2,  2, 12,  9,  5, 12,  8,  6,  8, 12, 10,  5,  8,  8,  6,\n",
       "       12, 12,  3,  8,  6, 11,  6,  5,  4,  3,  3,  3, 10,  5,  4,  1,  6,\n",
       "        4,  2,  2, 11,  6, 12,  3,  2,  4,  8,  2,  8, 10, 12,  9,  2,  6,\n",
       "        5,  5,  6,  3, 12,  5,  2,  4,  3, 10,  5,  1, 11,  5,  8, 10,  3,\n",
       "       10,  2,  6,  1,  9,  5,  6,  9, 10,  4,  6,  3,  2,  9,  6,  1,  6,\n",
       "       10,  3, 10,  1,  4, 12,  8,  3,  4,  1,  5,  2, 11,  3, 10,  1,  7,\n",
       "        1, 12,  5, 12,  9, 12,  7,  6,  9, 11,  6,  7,  7,  9, 10, 10,  7,\n",
       "        9,  9, 11, 10,  3,  7,  5,  1, 10,  5, 11, 12,  1, 11,  9,  5,  6,\n",
       "       10,  4, 10,  3,  2,  1, 10,  2,  1,  8, 11,  9,  8,  4, 12,  5,  3,\n",
       "        4, 11,  9, 10,  9,  9,  9,  6, 10,  1, 11,  3,  8,  5,  7, 10,  9,\n",
       "        4,  6,  4, 11,  8, 12,  5,  7,  3, 10,  8,  2,  9,  7,  3,  2,  1,\n",
       "       10,  9,  4,  2,  3,  1, 11, 10,  6, 11,  4, 12,  6, 12,  6,  9,  8,\n",
       "       12,  2,  1, 10,  6,  1,  7, 12,  5, 12,  7,  7,  9,  9,  1,  4,  5,\n",
       "        9,  5, 10,  5,  9,  2,  1, 10,  3,  5,  5,  5, 11, 11, 11, 12,  1,\n",
       "        3,  8,  9,  5,  5,  5,  9,  6,  7,  9,  3,  8,  6,  2, 12,  3,  2,\n",
       "        5,  2, 12,  7, 10,  7,  6,  9, 11, 10, 12, 11,  4, 11,  1,  7,  1,\n",
       "       12,  1,  3,  6,  6, 12,  4,  4,  5,  8,  2,  1,  7,  9,  4,  2, 11,\n",
       "        8,  1,  8, 12,  7,  8,  8, 12, 11,  8, 10,  6,  9,  2,  8, 12,  3,\n",
       "        8,  6,  6,  6,  9, 11, 10,  3,  4, 10,  5,  5,  7,  5,  8,  9,  4,\n",
       "       10,  9,  7,  3, 10,  4, 12,  5, 12,  6,  2, 10, 10, 11,  2,  7,  5,\n",
       "       12,  5,  3,  7, 10,  2, 10,  2,  4,  1,  5,  6,  3, 12,  6, 12,  6,\n",
       "       10,  2, 12,  9,  7, 12,  3, 12,  3,  7,  5,  6, 10, 11,  7,  4,  9,\n",
       "        2, 10,  3, 11, 11,  9,  4,  5,  6,  9,  6, 11, 10,  2,  2,  7,  9,\n",
       "        4, 11, 12,  7,  1,  9,  1,  4, 12,  3,  5,  6,  4,  7,  1, 10,  3,\n",
       "        8,  2,  8,  7, 12,  7,  2, 11,  8,  7, 11,  2,  3, 12,  1,  6,  2,\n",
       "        2,  8,  5,  8,  5,  7,  1,  4,  2,  1,  9,  2,  7, 11,  6,  3,  1,\n",
       "       11,  2,  9, 10,  9,  9, 12,  3, 11,  8,  4,  5,  8,  3,  9,  5, 12,\n",
       "        4, 11, 12,  3,  5,  2,  9,  6,  2,  7,  9,  6,  9,  6, 11,  8,  1,\n",
       "        9,  1, 12, 10,  3, 11, 10,  5,  8,  7,  1,  2, 12,  3,  5,  4,  8,\n",
       "        6, 11,  2,  8,  3,  4, 12, 10,  2, 11, 11,  2,  7, 11, 11,  7, 11,\n",
       "        2,  1,  2,  9,  6,  8,  1, 10,  8,  2,  6,  7,  4,  2,  7, 11,  1,\n",
       "       12, 11,  2, 12,  7,  5,  5,  5,  3,  5, 11,  4, 12, 10,  2, 10, 10,\n",
       "        7,  6, 11,  9,  6,  4,  5,  7,  6,  7,  3,  9,  1,  9,  4,  3,  6,\n",
       "       10, 12,  5, 11,  4,  5,  8,  7, 11,  5,  9,  8,  8,  7,  5, 12,  5,\n",
       "        4,  8,  9, 11,  2, 11,  3, 10,  4, 11,  3, 11, 10, 11,  5,  6,  8,\n",
       "        2,  8,  1,  6,  8, 10,  7, 10, 11,  6,  1,  3,  5, 12])"
      ]
     },
     "execution_count": 46,
     "metadata": {},
     "output_type": "execute_result"
    }
   ],
   "source": [
    "lista"
   ]
  },
  {
   "cell_type": "code",
   "execution_count": 47,
   "metadata": {},
   "outputs": [],
   "source": [
    "df = pd.DataFrame(lista)"
   ]
  },
  {
   "cell_type": "code",
   "execution_count": 48,
   "metadata": {},
   "outputs": [],
   "source": [
    "df1 = df[0].value_counts()"
   ]
  },
  {
   "cell_type": "code",
   "execution_count": 49,
   "metadata": {},
   "outputs": [
    {
     "data": {
      "text/plain": [
       "10    96\n",
       "2     93\n",
       "12    92\n",
       "11    91\n",
       "5     86\n",
       "6     82\n",
       "9     80\n",
       "4     79\n",
       "8     78\n",
       "7     75\n",
       "3     74\n",
       "1     74\n",
       "Name: 0, dtype: int64"
      ]
     },
     "execution_count": 49,
     "metadata": {},
     "output_type": "execute_result"
    }
   ],
   "source": [
    "df1"
   ]
  },
  {
   "cell_type": "code",
   "execution_count": 50,
   "metadata": {},
   "outputs": [],
   "source": [
    "df2 = pd.DataFrame(df1)"
   ]
  },
  {
   "cell_type": "code",
   "execution_count": 51,
   "metadata": {},
   "outputs": [],
   "source": [
    "df2 = df2.rename(columns ={0: 'Cantidad'})"
   ]
  },
  {
   "cell_type": "code",
   "execution_count": 52,
   "metadata": {},
   "outputs": [
    {
     "data": {
      "text/html": [
       "<div>\n",
       "<style scoped>\n",
       "    .dataframe tbody tr th:only-of-type {\n",
       "        vertical-align: middle;\n",
       "    }\n",
       "\n",
       "    .dataframe tbody tr th {\n",
       "        vertical-align: top;\n",
       "    }\n",
       "\n",
       "    .dataframe thead th {\n",
       "        text-align: right;\n",
       "    }\n",
       "</style>\n",
       "<table border=\"1\" class=\"dataframe\">\n",
       "  <thead>\n",
       "    <tr style=\"text-align: right;\">\n",
       "      <th></th>\n",
       "      <th>Cantidad</th>\n",
       "    </tr>\n",
       "  </thead>\n",
       "  <tbody>\n",
       "    <tr>\n",
       "      <th>10</th>\n",
       "      <td>96</td>\n",
       "    </tr>\n",
       "    <tr>\n",
       "      <th>2</th>\n",
       "      <td>93</td>\n",
       "    </tr>\n",
       "    <tr>\n",
       "      <th>12</th>\n",
       "      <td>92</td>\n",
       "    </tr>\n",
       "    <tr>\n",
       "      <th>11</th>\n",
       "      <td>91</td>\n",
       "    </tr>\n",
       "    <tr>\n",
       "      <th>5</th>\n",
       "      <td>86</td>\n",
       "    </tr>\n",
       "    <tr>\n",
       "      <th>6</th>\n",
       "      <td>82</td>\n",
       "    </tr>\n",
       "    <tr>\n",
       "      <th>9</th>\n",
       "      <td>80</td>\n",
       "    </tr>\n",
       "    <tr>\n",
       "      <th>4</th>\n",
       "      <td>79</td>\n",
       "    </tr>\n",
       "    <tr>\n",
       "      <th>8</th>\n",
       "      <td>78</td>\n",
       "    </tr>\n",
       "    <tr>\n",
       "      <th>7</th>\n",
       "      <td>75</td>\n",
       "    </tr>\n",
       "    <tr>\n",
       "      <th>3</th>\n",
       "      <td>74</td>\n",
       "    </tr>\n",
       "    <tr>\n",
       "      <th>1</th>\n",
       "      <td>74</td>\n",
       "    </tr>\n",
       "  </tbody>\n",
       "</table>\n",
       "</div>"
      ],
      "text/plain": [
       "    Cantidad\n",
       "10        96\n",
       "2         93\n",
       "12        92\n",
       "11        91\n",
       "5         86\n",
       "6         82\n",
       "9         80\n",
       "4         79\n",
       "8         78\n",
       "7         75\n",
       "3         74\n",
       "1         74"
      ]
     },
     "execution_count": 52,
     "metadata": {},
     "output_type": "execute_result"
    }
   ],
   "source": [
    "df2"
   ]
  },
  {
   "cell_type": "code",
   "execution_count": 53,
   "metadata": {},
   "outputs": [],
   "source": [
    "total = df2['Cantidad'].sum()"
   ]
  },
  {
   "cell_type": "code",
   "execution_count": 54,
   "metadata": {},
   "outputs": [],
   "source": [
    "df2['items'] = df2.index"
   ]
  },
  {
   "cell_type": "code",
   "execution_count": 55,
   "metadata": {},
   "outputs": [
    {
     "data": {
      "text/html": [
       "<div>\n",
       "<style scoped>\n",
       "    .dataframe tbody tr th:only-of-type {\n",
       "        vertical-align: middle;\n",
       "    }\n",
       "\n",
       "    .dataframe tbody tr th {\n",
       "        vertical-align: top;\n",
       "    }\n",
       "\n",
       "    .dataframe thead th {\n",
       "        text-align: right;\n",
       "    }\n",
       "</style>\n",
       "<table border=\"1\" class=\"dataframe\">\n",
       "  <thead>\n",
       "    <tr style=\"text-align: right;\">\n",
       "      <th></th>\n",
       "      <th>Cantidad</th>\n",
       "      <th>items</th>\n",
       "    </tr>\n",
       "  </thead>\n",
       "  <tbody>\n",
       "    <tr>\n",
       "      <th>10</th>\n",
       "      <td>96</td>\n",
       "      <td>10</td>\n",
       "    </tr>\n",
       "    <tr>\n",
       "      <th>2</th>\n",
       "      <td>93</td>\n",
       "      <td>2</td>\n",
       "    </tr>\n",
       "    <tr>\n",
       "      <th>12</th>\n",
       "      <td>92</td>\n",
       "      <td>12</td>\n",
       "    </tr>\n",
       "    <tr>\n",
       "      <th>11</th>\n",
       "      <td>91</td>\n",
       "      <td>11</td>\n",
       "    </tr>\n",
       "    <tr>\n",
       "      <th>5</th>\n",
       "      <td>86</td>\n",
       "      <td>5</td>\n",
       "    </tr>\n",
       "    <tr>\n",
       "      <th>6</th>\n",
       "      <td>82</td>\n",
       "      <td>6</td>\n",
       "    </tr>\n",
       "    <tr>\n",
       "      <th>9</th>\n",
       "      <td>80</td>\n",
       "      <td>9</td>\n",
       "    </tr>\n",
       "    <tr>\n",
       "      <th>4</th>\n",
       "      <td>79</td>\n",
       "      <td>4</td>\n",
       "    </tr>\n",
       "    <tr>\n",
       "      <th>8</th>\n",
       "      <td>78</td>\n",
       "      <td>8</td>\n",
       "    </tr>\n",
       "    <tr>\n",
       "      <th>7</th>\n",
       "      <td>75</td>\n",
       "      <td>7</td>\n",
       "    </tr>\n",
       "    <tr>\n",
       "      <th>3</th>\n",
       "      <td>74</td>\n",
       "      <td>3</td>\n",
       "    </tr>\n",
       "    <tr>\n",
       "      <th>1</th>\n",
       "      <td>74</td>\n",
       "      <td>1</td>\n",
       "    </tr>\n",
       "  </tbody>\n",
       "</table>\n",
       "</div>"
      ],
      "text/plain": [
       "    Cantidad  items\n",
       "10        96     10\n",
       "2         93      2\n",
       "12        92     12\n",
       "11        91     11\n",
       "5         86      5\n",
       "6         82      6\n",
       "9         80      9\n",
       "4         79      4\n",
       "8         78      8\n",
       "7         75      7\n",
       "3         74      3\n",
       "1         74      1"
      ]
     },
     "execution_count": 55,
     "metadata": {},
     "output_type": "execute_result"
    }
   ],
   "source": [
    "df2"
   ]
  },
  {
   "cell_type": "code",
   "execution_count": 56,
   "metadata": {},
   "outputs": [],
   "source": [
    "df2['probability'] = df2['Cantidad']/total"
   ]
  },
  {
   "cell_type": "code",
   "execution_count": 57,
   "metadata": {},
   "outputs": [
    {
     "data": {
      "text/html": [
       "<div>\n",
       "<style scoped>\n",
       "    .dataframe tbody tr th:only-of-type {\n",
       "        vertical-align: middle;\n",
       "    }\n",
       "\n",
       "    .dataframe tbody tr th {\n",
       "        vertical-align: top;\n",
       "    }\n",
       "\n",
       "    .dataframe thead th {\n",
       "        text-align: right;\n",
       "    }\n",
       "</style>\n",
       "<table border=\"1\" class=\"dataframe\">\n",
       "  <thead>\n",
       "    <tr style=\"text-align: right;\">\n",
       "      <th></th>\n",
       "      <th>Cantidad</th>\n",
       "      <th>items</th>\n",
       "      <th>probability</th>\n",
       "    </tr>\n",
       "  </thead>\n",
       "  <tbody>\n",
       "    <tr>\n",
       "      <th>10</th>\n",
       "      <td>96</td>\n",
       "      <td>10</td>\n",
       "      <td>0.096</td>\n",
       "    </tr>\n",
       "    <tr>\n",
       "      <th>2</th>\n",
       "      <td>93</td>\n",
       "      <td>2</td>\n",
       "      <td>0.093</td>\n",
       "    </tr>\n",
       "    <tr>\n",
       "      <th>12</th>\n",
       "      <td>92</td>\n",
       "      <td>12</td>\n",
       "      <td>0.092</td>\n",
       "    </tr>\n",
       "    <tr>\n",
       "      <th>11</th>\n",
       "      <td>91</td>\n",
       "      <td>11</td>\n",
       "      <td>0.091</td>\n",
       "    </tr>\n",
       "    <tr>\n",
       "      <th>5</th>\n",
       "      <td>86</td>\n",
       "      <td>5</td>\n",
       "      <td>0.086</td>\n",
       "    </tr>\n",
       "    <tr>\n",
       "      <th>6</th>\n",
       "      <td>82</td>\n",
       "      <td>6</td>\n",
       "      <td>0.082</td>\n",
       "    </tr>\n",
       "    <tr>\n",
       "      <th>9</th>\n",
       "      <td>80</td>\n",
       "      <td>9</td>\n",
       "      <td>0.080</td>\n",
       "    </tr>\n",
       "    <tr>\n",
       "      <th>4</th>\n",
       "      <td>79</td>\n",
       "      <td>4</td>\n",
       "      <td>0.079</td>\n",
       "    </tr>\n",
       "    <tr>\n",
       "      <th>8</th>\n",
       "      <td>78</td>\n",
       "      <td>8</td>\n",
       "      <td>0.078</td>\n",
       "    </tr>\n",
       "    <tr>\n",
       "      <th>7</th>\n",
       "      <td>75</td>\n",
       "      <td>7</td>\n",
       "      <td>0.075</td>\n",
       "    </tr>\n",
       "    <tr>\n",
       "      <th>3</th>\n",
       "      <td>74</td>\n",
       "      <td>3</td>\n",
       "      <td>0.074</td>\n",
       "    </tr>\n",
       "    <tr>\n",
       "      <th>1</th>\n",
       "      <td>74</td>\n",
       "      <td>1</td>\n",
       "      <td>0.074</td>\n",
       "    </tr>\n",
       "  </tbody>\n",
       "</table>\n",
       "</div>"
      ],
      "text/plain": [
       "    Cantidad  items  probability\n",
       "10        96     10        0.096\n",
       "2         93      2        0.093\n",
       "12        92     12        0.092\n",
       "11        91     11        0.091\n",
       "5         86      5        0.086\n",
       "6         82      6        0.082\n",
       "9         80      9        0.080\n",
       "4         79      4        0.079\n",
       "8         78      8        0.078\n",
       "7         75      7        0.075\n",
       "3         74      3        0.074\n",
       "1         74      1        0.074"
      ]
     },
     "execution_count": 57,
     "metadata": {},
     "output_type": "execute_result"
    }
   ],
   "source": [
    "df2"
   ]
  },
  {
   "cell_type": "code",
   "execution_count": 59,
   "metadata": {},
   "outputs": [
    {
     "data": {
      "image/png": "[encoded data removed]",
      "text/plain": [
       "<Figure size 432x288 with 1 Axes>"
      ]
     },
     "metadata": {
      "needs_background": "light"
     },
     "output_type": "display_data"
    }
   ],
   "source": [
    "plt.bar(df2['items'], df2['probability'])\n",
    "plt.plot(df2['probability'], 'o', color = 'r')\n",
    "plt.show()"
   ]
  },
  {
   "cell_type": "code",
   "execution_count": null,
   "metadata": {},
   "outputs": [],
   "source": []
  }
 ],
 "metadata": {
  "kernelspec": {
   "display_name": "Python 3",
   "language": "python",
   "name": "python3"
  },
  "language_info": {
   "codemirror_mode": {
    "name": "ipython",
    "version": 3
   },
   "file_extension": ".py",
   "mimetype": "text/x-python",
   "name": "python",
   "nbconvert_exporter": "python",
   "pygments_lexer": "ipython3",
   "version": "3.8.8"
  }
 },
 "nbformat": 4,
 "nbformat_minor": 4
}
